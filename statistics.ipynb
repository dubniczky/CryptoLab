{
 "cells": [
  {
   "cell_type": "code",
   "execution_count": 51,
   "metadata": {},
   "outputs": [
    {
     "data": {
      "text/plain": [
       "16"
      ]
     },
     "execution_count": 51,
     "metadata": {},
     "output_type": "execute_result"
    }
   ],
   "source": [
    "import os\n",
    "\n",
    "folders = [\n",
    "    'random',\n",
    "    'padding',\n",
    "    'symmetric',\n",
    "]\n",
    "functions = [\n",
    "    'random',\n",
    "    'pad',\n",
    "    'encrypt',\n",
    "]\n",
    "category_names = [\n",
    "    'Random Number Generators',\n",
    "    'Block Cipher Padding',\n",
    "    'Symmetric Encryption',\n",
    "]\n",
    "python_suffix = '.py'\n",
    "\n",
    "files = {}\n",
    "file_count = 0\n",
    "for folder in folders:\n",
    "    files[folder] = {}\n",
    "    for file_name in os.listdir(folder):\n",
    "        with open(os.path.join(folder, file_name), 'r') as file:\n",
    "            name = file_name.removesuffix(python_suffix)\n",
    "            files[folder][name] = file.read()\n",
    "            file_count += 1\n",
    "        \n",
    "file_count"
   ]
  },
  {
   "cell_type": "code",
   "execution_count": 52,
   "metadata": {},
   "outputs": [],
   "source": [
    "from radon.complexity import cc_rank, cc_visit\n",
    "from radon.metrics import h_visit\n",
    "\n",
    "def get_function_statistics(code: str, function_name: str) -> dict | None:\n",
    "    # Run analyzers\n",
    "    cc = cc_visit(code) # Cyclomatic complexity\n",
    "    h = h_visit(code) # Halstead metrics\n",
    "    \n",
    "    # Find CC function\n",
    "    cc_function = list(filter(lambda x: x.name == function_name, cc))\n",
    "    if len(cc_function) != 1:\n",
    "        return None\n",
    "    cc_function = cc_function[0]\n",
    "    \n",
    "    # Find Halstead function\n",
    "    h_function = list(filter(lambda x: x[0] == function_name, h.functions))\n",
    "    if len(h_function) != 1:\n",
    "        return None\n",
    "    h_function = h_function[0][1] # Get the function's metrics object\n",
    "    \n",
    "    # Collect statistics\n",
    "    stats = {\n",
    "        'lines': cc_function.endline - cc_function.lineno,\n",
    "        'cc': cc_function.complexity,\n",
    "        'cc_rank': cc_rank(cc_function.complexity),\n",
    "        'h_volume': h_function.volume,\n",
    "        'h_length': h_function.length,\n",
    "        'h_difficulty': h_function.difficulty,\n",
    "    }\n",
    "    return stats"
   ]
  },
  {
   "cell_type": "code",
   "execution_count": 53,
   "metadata": {},
   "outputs": [
    {
     "data": {
      "text/plain": [
       "('xorshift',\n",
       " {'lines': 6,\n",
       "  'cc': 1,\n",
       "  'cc_rank': 'A',\n",
       "  'h_volume': 120.0,\n",
       "  'h_length': 30,\n",
       "  'h_difficulty': 4.545454545454546})"
      ]
     },
     "execution_count": 53,
     "metadata": {},
     "output_type": "execute_result"
    }
   ],
   "source": [
    "statistics = {}\n",
    "for folder, function in zip(folders, functions):\n",
    "    statistics[ folder ] = {}\n",
    "    for name, code in files[folder].items():\n",
    "        statistics[ folder ][ name ] = get_function_statistics(code, function)\n",
    "\n",
    "list(statistics[ list(statistics.keys())[0] ].items())[0]"
   ]
  },
  {
   "cell_type": "code",
   "execution_count": 58,
   "metadata": {},
   "outputs": [],
   "source": [
    "def markdown_table_from_statistics(statistics):\n",
    "    global symmetrics_folter, python_suffix\n",
    "    table = '| Name | Lines | CC | CC Rank | Halstead Volume | Halstead Length | Halstead Difficulty |\\n'\n",
    "    table += '|-|-|-|-|-|-|-|\\n'\n",
    "    for name, stats in statistics.items():\n",
    "        table += f'| [{name}]({symmetrics_folter}/{name}{python_suffix}) | {stats[\"lines\"]} | {stats[\"cc\"]} | {stats[\"cc_rank\"]} | {stats[\"h_volume\"]:.1f} | {stats[\"h_length\"]} | {stats[\"h_difficulty\"]:.1f} |\\n'\n",
    "    return table\n",
    "\n",
    "def make_all_tables(folders, category_names, statistics):\n",
    "    text = '## Implementations\\n\\n'\n",
    "    for folder, category_name in zip(folders, category_names):\n",
    "        text += f'### {category_name}\\n'\n",
    "        text += markdown_table_from_statistics(statistics[folder])\n",
    "        text += '\\n'\n",
    "    return text\n",
    "        \n",
    "with open('README.temp.md', 'w') as file:\n",
    "    file.write(make_all_tables(folders, category_names, statistics))"
   ]
  }
 ],
 "metadata": {
  "kernelspec": {
   "display_name": ".venv",
   "language": "python",
   "name": "python3"
  },
  "language_info": {
   "codemirror_mode": {
    "name": "ipython",
    "version": 3
   },
   "file_extension": ".py",
   "mimetype": "text/x-python",
   "name": "python",
   "nbconvert_exporter": "python",
   "pygments_lexer": "ipython3",
   "version": "3.13.1"
  }
 },
 "nbformat": 4,
 "nbformat_minor": 2
}
