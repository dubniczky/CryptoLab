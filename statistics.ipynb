{
 "cells": [
  {
   "cell_type": "code",
   "execution_count": 2,
   "metadata": {},
   "outputs": [],
   "source": [
    "import os\n",
    "import radon"
   ]
  },
  {
   "cell_type": "code",
   "execution_count": 3,
   "metadata": {},
   "outputs": [
    {
     "data": {
      "text/plain": [
       "['tea', 'rcaesar', 'otp', 'vignere', 'caesar', 'feistel']"
      ]
     },
     "execution_count": 3,
     "metadata": {},
     "output_type": "execute_result"
    }
   ],
   "source": [
    "symmetrics_folter = 'symmetric'\n",
    "python_suffix = '.py'\n",
    "\n",
    "file_names = os.listdir(symmetrics_folter)\n",
    "files = {}\n",
    "for file_name in file_names:\n",
    "    with open(os.path.join(symmetrics_folter, file_name), 'r') as file:\n",
    "        name = file_name.removesuffix(python_suffix)\n",
    "        files[name] = file.read()\n",
    "        \n",
    "list(files.keys())"
   ]
  },
  {
   "cell_type": "code",
   "execution_count": 4,
   "metadata": {},
   "outputs": [],
   "source": [
    "from radon.complexity import cc_rank, cc_visit\n",
    "from radon.metrics import h_visit\n",
    "\n",
    "def get_function_statistics(code: str, function_name: str) -> dict | None:\n",
    "    # Run analyzers\n",
    "    cc = cc_visit(code) # Cyclomatic complexity\n",
    "    h = h_visit(code) # Halstead metrics\n",
    "    \n",
    "    # Find CC function\n",
    "    cc_function = list(filter(lambda x: x.name == function_name, cc))\n",
    "    if len(cc_function) != 1:\n",
    "        return None\n",
    "    cc_function = cc_function[0]\n",
    "    \n",
    "    # Find Halstead function\n",
    "    h_function = list(filter(lambda x: x[0] == function_name, h.functions))\n",
    "    if len(h_function) != 1:\n",
    "        return None\n",
    "    h_function = h_function[0][1] # Get the function's metrics object\n",
    "    \n",
    "    # Collect statistics\n",
    "    stats = {\n",
    "        'lines': cc_function.endline - cc_function.lineno,\n",
    "        'cc': cc_function.complexity,\n",
    "        'cc_rank': cc_rank(cc_function.complexity),\n",
    "        'h_volume': h_function.volume,\n",
    "        'h_length': h_function.length,\n",
    "        'h_difficulty': h_function.difficulty,\n",
    "    }\n",
    "    return stats"
   ]
  },
  {
   "cell_type": "code",
   "execution_count": 5,
   "metadata": {},
   "outputs": [
    {
     "data": {
      "text/plain": [
       "{'lines': 11,\n",
       " 'cc': 2,\n",
       " 'cc_rank': 'A',\n",
       " 'h_volume': 297.25177862321254,\n",
       " 'h_length': 60,\n",
       " 'h_difficulty': 3.8461538461538463}"
      ]
     },
     "execution_count": 5,
     "metadata": {},
     "output_type": "execute_result"
    }
   ],
   "source": [
    "statistics = {}\n",
    "for name, code in files.items():\n",
    "    statistics[ name ] = get_function_statistics(code, 'encrypt')\n",
    "\n",
    "statistics[ list(statistics.keys())[0] ]"
   ]
  },
  {
   "cell_type": "code",
   "execution_count": 6,
   "metadata": {},
   "outputs": [
    {
     "name": "stdout",
     "output_type": "stream",
     "text": [
      "| Name | Lines | CC | CC Rank | Halstead Volume | Halstead Length | Halstead Difficulty |\n",
      "|-|-|-|-|-|-|-|\n",
      "| tea | 11 | 2 | A | 297.3 | 60 | 3.8 |\n",
      "| rcaesar | 13 | 3 | A | 98.1 | 24 | 2.5 |\n",
      "| otp | 4 | 3 | A | 15.5 | 6 | 1.0 |\n",
      "| vignere | 15 | 3 | A | 80.0 | 21 | 1.9 |\n",
      "| caesar | 11 | 3 | A | 51.9 | 15 | 1.9 |\n",
      "| feistel | 8 | 3 | A | 66.6 | 18 | 1.8 |\n",
      "\n"
     ]
    }
   ],
   "source": [
    "# Create markdown table\n",
    "table = '| Name | Lines | CC | CC Rank | Halstead Volume | Halstead Length | Halstead Difficulty |\\n'\n",
    "table += '|-|-|-|-|-|-|-|\\n'\n",
    "for name, stats in statistics.items():\n",
    "    table += f'| {name} | {stats[\"lines\"]} | {stats[\"cc\"]} | {stats[\"cc_rank\"]} | {stats[\"h_volume\"]:.1f} | {stats[\"h_length\"]} | {stats[\"h_difficulty\"]:.1f} |\\n'\n",
    "    \n",
    "print(table)"
   ]
  }
 ],
 "metadata": {
  "kernelspec": {
   "display_name": ".venv",
   "language": "python",
   "name": "python3"
  },
  "language_info": {
   "codemirror_mode": {
    "name": "ipython",
    "version": 3
   },
   "file_extension": ".py",
   "mimetype": "text/x-python",
   "name": "python",
   "nbconvert_exporter": "python",
   "pygments_lexer": "ipython3",
   "version": "3.13.1"
  }
 },
 "nbformat": 4,
 "nbformat_minor": 2
}
